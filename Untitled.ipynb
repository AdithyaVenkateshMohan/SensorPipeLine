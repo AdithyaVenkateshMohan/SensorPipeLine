{
 "cells": [
  {
   "cell_type": "code",
   "execution_count": 58,
   "metadata": {},
   "outputs": [
    {
     "name": "stdout",
     "output_type": "stream",
     "text": [
      "[   0    1    2 ... 9997 9998 9999]\n",
      "[   0    1    2 ... 9997 9998 9999]\n",
      "LidarReadingsTestCheck-February06-2019-09:55PM.csv\n",
      "LidarReadingsTestCheck1-February06-2019-10:00PM.csv\n",
      "LidarReadingsTestCheck1-February06-2019-10:03PM.csv\n",
      "Measurements\n",
      "MeasurementsSonar\n",
      "Sonar\n",
      "Sonar.npy\n",
      "Sonar2\n",
      "Sonar3\n",
      "SonarreadingTestCheck-February06-2019-09:52PM.npy\n",
      "SonarreadingTestCheck-February06-2019-09:55PM.npy\n",
      "SonarreadingTestCheck1-February06-2019-10:00PM.npy\n",
      "SonarreadingTestCheck1-February06-2019-10:03PM.npy\n",
      "SonarreadingTestCheck2-February06-2019-10:01PM.npy\n",
      "df.csv\n",
      " Sonar   ...............................\n",
      "Sonar\n",
      "Sonar.npy\n",
      "Sonar2\n",
      "Sonar3\n",
      "SonarreadingTestCheck-February06-2019-09:52PM.npy\n",
      "SonarreadingTestCheck-February06-2019-09:55PM.npy\n",
      "SonarreadingTestCheck1-February06-2019-10:00PM.npy\n",
      "SonarreadingTestCheck1-February06-2019-10:03PM.npy\n",
      "SonarreadingTestCheck2-February06-2019-10:01PM.npy\n",
      "done\n"
     ]
    }
   ],
   "source": [
    "import boto3\n",
    "import botocore\n",
    "\n",
    "import pandas as pd\n",
    "\n",
    "import io\n",
    "\n",
    "from io import StringIO \n",
    "\n",
    "from tempfile import TemporaryFile as Tempf\n",
    "\n",
    "import numpy as np\n",
    "\n",
    "#import BytesIO\n",
    "\n",
    "\n",
    "s3 = boto3.client('s3')\n",
    "\n",
    "response = s3.list_buckets()\n",
    "\n",
    "bucks = [bucket['Name'] for bucket in response['Buckets']]\n",
    "\n",
    "\n",
    "\n",
    "file_nM = \"/home/adithya/DAQ-Sensor/DataStored/measurement0025\"\n",
    "\n",
    "bucket_nM = bucks[0]\n",
    "\n",
    "FilesUp = s3.list_objects(Bucket = bucket_nM)\n",
    "#print(FilesUp['Key'])\n",
    "#s3.upload_file(file_nM+\".npy\", bucket_nM, \"MeasurementsSonar\")\n",
    "\n",
    "readCSV = pd.read_csv(file_nM+\".csv\")\n",
    "\n",
    "csv_buffer = StringIO()\n",
    "npy_buffer = StringIO()\n",
    "\n",
    "readCSV.to_csv(csv_buffer)\n",
    "\n",
    "#error\n",
    "s3_resource = boto3.resource('s3')\n",
    " \n",
    "#s3_resource.Object(bucket_nM, 'df.csv').put(Body=csv_buffer.getvalue())\n",
    "\n",
    "#s3.upload_file(csv_buffer.getvalue(), bucket_nM, \"Measurements\")\n",
    "\n",
    "#print (readCSV.head)\n",
    "\n",
    "s3upload = Tempf()\n",
    "\n",
    "numData = np.arange(10000)\n",
    "\n",
    "np.save(\"Measure.npy\", numData)\n",
    "\n",
    "s3_resource = boto3.resource('s3')\n",
    "s3upload.seek(0)\n",
    "\n",
    "res = np.load(\"Measure.npy\")\n",
    "print(res)\n",
    "\n",
    "#s3.upload_fileobj(s3upload, bucket_nM, \"Sonar3\")\n",
    "\n",
    "#s3.upload_file(\"Measure.npy\", bucket_nM, \"Sonar\")\n",
    "\n",
    "# try:\n",
    "#     #s3_res = s3.get_object(Bucket = bucket_nM , Key = \"Sonar\")\n",
    "#     bucket = s3_resource.Bucket(bucket_nM)\n",
    "#     #key=bucket.get_key(\"Sonar\")\n",
    "#     data_string=StringIO(key.get_contents_as_string())\n",
    "#     data = np.load(data_string)\n",
    "#     print(data)\n",
    "#     #obj_con = s3_res['Body'].read()\n",
    "#     #obj_con = np.load(StringIO(str(obj_con)))\n",
    "    \n",
    "#     #print(obj_con)\n",
    "# except botocore.exceptions.ClientError as e:\n",
    "#     if e.response['Error']['Code'] == \"404\":\n",
    "#         print(\"The object does not exist.\")\n",
    "#     else:\n",
    "#         raise\n",
    "        \n",
    "obj = s3_resource.Object(bucket_nM, \"Sonar\")\n",
    "with io.BytesIO(obj.get()[\"Body\"].read()) as f:\n",
    "    # rewind the file\n",
    "    f.seek(0)\n",
    "    arr = np.load(f)\n",
    "    print(arr)\n",
    "\n",
    "#print(res)\n",
    "all_objects = s3.list_objects(Bucket = bucket_nM ) \n",
    "sonar_objects = s3.list_objects(Bucket = bucket_nM , Delimiter = \"/\", Prefix = \"Sonar\") \n",
    "#Contentslist =  all_objects['Contents']\n",
    "for i in all_objects['Contents']:\n",
    "    print(i['Key'])\n",
    "#file nAMES OF sonar\n",
    "print(\" Sonar   ...............................\")\n",
    "for i in sonar_objects['Contents']:\n",
    "    print(i['Key'])\n",
    "print(\"done\")\n",
    "#print(sonar_objects)\n",
    "\n",
    "\n",
    "def getTheFileNames_withPrefix(name, delimiter = ''):\n",
    "    sonar_objects = s3.list_objects(Bucket = bucket_nM , Delimiter = delimiter, Prefix = name)\n",
    "    try:\n",
    "        Contents = sonar_objects['Contents']\n",
    "    except KeyError:\n",
    "        print(\"no contents with specfied prefix\")\n",
    "    try: \n",
    "        Filename = [f['Key'] for f in Contents]\n",
    "    except KeyError:\n",
    "        print(\"no contents with specfied prefix\")\n",
    "    \n",
    "    return Filename\n"
   ]
  },
  {
   "cell_type": "code",
   "execution_count": 24,
   "metadata": {},
   "outputs": [
    {
     "name": "stdout",
     "output_type": "stream",
     "text": [
      "['/usr/lib/python35.zip', '/usr/lib/python3.5', '/usr/lib/python3.5/plat-x86_64-linux-gnu', '/usr/lib/python3.5/lib-dynload', '', '/home/adithya/.local/lib/python3.5/site-packages', '/home/adithya/.local/lib/python3.5/site-packages/sweeppy-1.3.0-py3.5.egg', '/usr/local/lib/python3.5/dist-packages', '/usr/local/lib/python3.5/dist-packages/sweeppy-1.3.0-py3.5.egg', '/home/adithya/ReinfLearn/Practice/donkey_gym', '/usr/lib/python3/dist-packages', '/usr/local/lib/python3.5/dist-packages/IPython/extensions', '/home/adithya/.ipython']\n"
     ]
    }
   ],
   "source": [
    "import sys\n",
    "\n",
    "print(sys.path)\n"
   ]
  },
  {
   "cell_type": "code",
   "execution_count": 30,
   "metadata": {},
   "outputs": [
    {
     "ename": "NameError",
     "evalue": "name 'NotebookApp' is not defined",
     "output_type": "error",
     "traceback": [
      "\u001b[0;31m---------------------------------------------------------------------------\u001b[0m",
      "\u001b[0;31mNameError\u001b[0m                                 Traceback (most recent call last)",
      "\u001b[0;32m<ipython-input-30-f9252874d530>\u001b[0m in \u001b[0;36m<module>\u001b[0;34m\u001b[0m\n\u001b[0;32m----> 1\u001b[0;31m \u001b[0;34m-\u001b[0m\u001b[0;34m-\u001b[0m\u001b[0mNotebookApp\u001b[0m\u001b[0;34m.\u001b[0m\u001b[0miopub_data_rate_limit\u001b[0m\u001b[0;34m\u001b[0m\u001b[0m\n\u001b[0m",
      "\u001b[0;31mNameError\u001b[0m: name 'NotebookApp' is not defined"
     ]
    }
   ],
   "source": [
    "--NotebookApp.iopub_data_rate_limit"
   ]
  },
  {
   "cell_type": "code",
   "execution_count": 10,
   "metadata": {},
   "outputs": [
    {
     "ename": "SyntaxError",
     "evalue": "Missing parentheses in call to 'print' (<ipython-input-10-ac87dcd79d90>, line 11)",
     "output_type": "error",
     "traceback": [
      "\u001b[0;36m  File \u001b[0;32m\"<ipython-input-10-ac87dcd79d90>\"\u001b[0;36m, line \u001b[0;32m11\u001b[0m\n\u001b[0;31m    print 'test.py -i <inputfile> -o <outputfile>'\u001b[0m\n\u001b[0m                                                 ^\u001b[0m\n\u001b[0;31mSyntaxError\u001b[0m\u001b[0;31m:\u001b[0m Missing parentheses in call to 'print'\n"
     ]
    }
   ],
   "source": [
    "#!/usr/bin/python2\n",
    "\n",
    "import sys, getopt\n",
    "\n",
    "def main(argv):\n",
    "    inputfile = ''\n",
    "    outputfile = ''\n",
    "    try:\n",
    "        opts, args = getopt.getopt(argv,\"hi:o:e:\",[\"ifile=\",\"ofile=\", \"ExecMode=\"])\n",
    "   \n",
    "    except getopt.GetoptError:\n",
    "        print 'test.py -f <inputfile> -o <outputfile> -e <execmode>'\n",
    "        sys.exit(2)\n",
    "    \n",
    "    for opt, arg in opts:\n",
    "        if opt == '-h':\n",
    "            print 'test.py -i <inputfile> -o <outputfile>'\n",
    "            sys.exit()\n",
    "        elif opt in (\"-i\", \"--ifile\"):\n",
    "            inputfile = arg\n",
    "        elif opt in (\"-o\", \"--ofile\"):\n",
    "            outputfile = arg\n",
    "        elif opt in (\"-e\", \"--execmode\"):\n",
    "            outputfile = arg\n",
    "    \n",
    "            \n",
    "    print 'Input file is \"', inputfile\n",
    "    print 'Output file is \"', outputfile\n",
    "    print \"the input exec mode is\", \n",
    "\n",
    "if __name__ == \"__main__\":\n",
    "    main(sys.argv[1:])\n"
   ]
  },
  {
   "cell_type": "code",
   "execution_count": 23,
   "metadata": {},
   "outputs": [
    {
     "data": {
      "text/plain": [
       "'-February06-2019-08:31PM'"
      ]
     },
     "execution_count": 23,
     "metadata": {},
     "output_type": "execute_result"
    }
   ],
   "source": [
    "import datetime\n",
    "c = datetime.datetime.now().strftime(\"-%B%d-%Y-%I:%M%p\")\n",
    "c"
   ]
  },
  {
   "cell_type": "code",
   "execution_count": 82,
   "metadata": {},
   "outputs": [
    {
     "data": {
      "application/vnd.jupyter.widget-view+json": {
       "model_id": "49401ee7a61d4f91959b3cde8249654c",
       "version_major": 2,
       "version_minor": 0
      },
      "text/plain": [
       "Button(description=\"Let's Start\", style=ButtonStyle())"
      ]
     },
     "metadata": {},
     "output_type": "display_data"
    },
    {
     "name": "stdout",
     "output_type": "stream",
     "text": [
      "started Button(description=\"Let's Start\", style=ButtonStyle())\n"
     ]
    },
    {
     "data": {
      "application/vnd.jupyter.widget-view+json": {
       "model_id": "1933cb144e2d44b19314ffc850d33f6f",
       "version_major": 2,
       "version_minor": 0
      },
      "text/plain": [
       "Tab(children=(HBox(children=(VBox(children=(Button(description='Sonar', layout=Layout(height='60px', width='10…"
      ]
     },
     "metadata": {},
     "output_type": "display_data"
    },
    {
     "name": "stdout",
     "output_type": "stream",
     "text": [
      "sonar file selected  Button(description='SonarreadingTestCheck2-February06-2019-10:01PM.npy', layout=Layout(height='60px', width='100%'), style=ButtonStyle())\n"
     ]
    },
    {
     "data": {
      "application/vnd.jupyter.widget-view+json": {
       "model_id": "1b8c34b861614ff9a2ee6100c84bf451",
       "version_major": 2,
       "version_minor": 0
      },
      "text/plain": [
       "Tab(children=(VBox(children=(HBox(children=(Output(), Output())), HBox(children=(Output(),)), HBox(children=(O…"
      ]
     },
     "metadata": {},
     "output_type": "display_data"
    },
    {
     "name": "stdout",
     "output_type": "stream",
     "text": [
      "sonar file selected  Button(description='SonarreadingTestCheck1-February06-2019-10:03PM.npy', layout=Layout(height='60px', width='100%'), style=ButtonStyle())\n"
     ]
    },
    {
     "data": {
      "application/vnd.jupyter.widget-view+json": {
       "model_id": "5f43c72a883948f9b63e5f3f2f3e14ae",
       "version_major": 2,
       "version_minor": 0
      },
      "text/plain": [
       "Tab(children=(VBox(children=(HBox(children=(Output(), Output())), HBox(children=(Output(),)), HBox(children=(O…"
      ]
     },
     "metadata": {},
     "output_type": "display_data"
    }
   ],
   "source": [
    "import numpy as np\n",
    "import matplotlib.pyplot as plt\n",
    "%matplotlib inline \n",
    "\n",
    "from ipywidgets import widgets\n",
    "button = widgets.Button(description = \"Let's Start\")\n",
    "\n",
    "\n",
    "\n",
    "\n",
    "\n",
    "def SonarFileButton(button):\n",
    "    print(\"sonar file selected \" , button)\n",
    "    obj = s3_resource.Object(bucket_nM, button.description)\n",
    "    with io.BytesIO(obj.get()[\"Body\"].read()) as f:\n",
    "        # rewind the file\n",
    "        f.seek(0)\n",
    "        SonarMeasure = np.load(f)\n",
    "#         print(arr)\n",
    "        Left = SonarMeasure[:,1,0]\n",
    "        Right = SonarMeasure[:,0,0]\n",
    "\n",
    "\n",
    "        #plotting the data\n",
    "        out1 = widgets.Output()\n",
    "        \n",
    "        with out1:\n",
    "            fig = plt.figure()\n",
    "            #w = [[pow(b[0],2) + 0.0000000001 ,pow(b[1],2) + 0.000000000001] for b in SonarMeasure[:,:,1]]\n",
    "            #print(w)\n",
    "            bx = fig.add_subplot(121)\n",
    "            ax = fig.add_subplot(122)\n",
    "            bx.plot(SonarMeasure[:,:,1])\n",
    "            plt.show(fig)\n",
    "        \n",
    "        out2 = widgets.Output()\n",
    "        \n",
    "        with out2 :\n",
    "            fig2 = plt.figure()\n",
    "            bx = fig2.add_subplot(121)\n",
    "            ax = fig2.add_subplot(122)\n",
    "            bx.plot(Right, color = 'red')\n",
    "            ax.plot(Left, color =\"blue\")\n",
    "            plt.show(fig2)\n",
    "\n",
    "        diff = Left - Right\n",
    "        \n",
    "        out3 = widgets.Output()\n",
    "        with out3:\n",
    "            fig3 = plt.figure()\n",
    "            ax = fig3.add_subplot(111)\n",
    "            ax.plot(diff, color = 'red')\n",
    "            plt.show(fig3)\n",
    "        \n",
    "        out4 = widgets.Output()\n",
    "        with out4:\n",
    "            WindowSize =10 \n",
    "            LeftW = np.array([sum(pow(Left[i:i+WindowSize],2)) for i in range(len(Left))])\n",
    "            RightW = np.array([sum(pow(Right[i:i+WindowSize],2)) for i in range(len(Right))])\n",
    "            print(LeftW)\n",
    "            LeftW = 10*np.log10(LeftW)\n",
    "            RightW = 10*np.log10(RightW)\n",
    "            fig4 = plt.figure()\n",
    "            ax = fig4.add_subplot(121)\n",
    "            bx = fig4.add_subplot(122)\n",
    "            ax.plot(LeftW, color = 'orange')\n",
    "            bx.plot(RightW, color = 'skyblue')\n",
    "            plt.show(fig4)\n",
    "        \n",
    "        HorBox = widgets.HBox([out1, out2])\n",
    "        Hor2Box = widgets.HBox([out3])\n",
    "        Hor3Box = widgets.HBox([out4])\n",
    "        \n",
    "        VertBox = widgets.VBox([HorBox , Hor2Box , Hor3Box])\n",
    "        \n",
    "        tab = widgets.Tab(children =[VertBox])\n",
    "        tab.set_title(0, button.description)\n",
    "        display(tab)\n",
    "\n",
    "   \n",
    "    \n",
    "def LidarFileButton(button):    \n",
    "    print(\"lidar file selected \" , button)\n",
    "\n",
    "\n",
    "\n",
    "def OpenScreen(button):\n",
    "    print(\"started\" , button)\n",
    "    tab = widgets.Tab()\n",
    "    tab.set_title(0, \"All the Files in S3 Bucket\")\n",
    "    Files = getTheFileNames_withPrefix(\"Sonar\")\n",
    "    items = [widgets.Button(description = file ,  layout=widgets.Layout(width='100%', height='60px')) for file in Files]\n",
    "    for i in items:\n",
    "        i.on_click(SonarFileButton)\n",
    "    box = widgets.VBox(items)\n",
    "    Files = getTheFileNames_withPrefix(\"Lidar\")\n",
    "    items = [widgets.Button(description = file ,  layout=widgets.Layout(width='100%', height='60px')) for file in Files]\n",
    "    for i in items:\n",
    "        i.on_click(LidarFileButton)\n",
    "    box2 = widgets.VBox(items)\n",
    "    tab.children= [widgets.HBox([box, box2])]\n",
    "    display(tab)\n",
    "\n",
    "button.on_click(OpenScreen)\n",
    "display(button)\n",
    "\n",
    "\n"
   ]
  },
  {
   "cell_type": "code",
   "execution_count": 3,
   "metadata": {},
   "outputs": [
    {
     "ename": "ImportError",
     "evalue": "No module named 'statlib'",
     "output_type": "error",
     "traceback": [
      "\u001b[0;31m---------------------------------------------------------------------------\u001b[0m",
      "\u001b[0;31mImportError\u001b[0m                               Traceback (most recent call last)",
      "\u001b[0;32m<ipython-input-3-316e7c30943b>\u001b[0m in \u001b[0;36m<module>\u001b[0;34m\u001b[0m\n\u001b[0;32m----> 1\u001b[0;31m \u001b[0;32mimport\u001b[0m \u001b[0mstatlib\u001b[0m\u001b[0;34m\u001b[0m\u001b[0m\n\u001b[0m\u001b[1;32m      2\u001b[0m \u001b[0mprint\u001b[0m \u001b[0;34m(\u001b[0m\u001b[0mstatlib\u001b[0m\u001b[0;34m.\u001b[0m\u001b[0m__version__\u001b[0m\u001b[0;34m)\u001b[0m\u001b[0;34m\u001b[0m\u001b[0m\n",
      "\u001b[0;31mImportError\u001b[0m: No module named 'statlib'"
     ]
    }
   ],
   "source": [
    "import statlib\n",
    "print (statlib.__version__)"
   ]
  },
  {
   "cell_type": "code",
   "execution_count": null,
   "metadata": {},
   "outputs": [],
   "source": []
  }
 ],
 "metadata": {
  "kernelspec": {
   "display_name": "Python 3",
   "language": "python",
   "name": "python3"
  },
  "language_info": {
   "codemirror_mode": {
    "name": "ipython",
    "version": 3
   },
   "file_extension": ".py",
   "mimetype": "text/x-python",
   "name": "python",
   "nbconvert_exporter": "python",
   "pygments_lexer": "ipython3",
   "version": "3.5.2"
  }
 },
 "nbformat": 4,
 "nbformat_minor": 2
}
